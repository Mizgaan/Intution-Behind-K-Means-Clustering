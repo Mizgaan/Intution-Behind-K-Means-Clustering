{
 "cells": [
  {
   "cell_type": "code",
   "execution_count": 26,
   "metadata": {},
   "outputs": [
    {
     "data": {
      "image/png": "[encoded data removed]",
      "text/plain": [
       "<Figure size 432x288 with 1 Axes>"
      ]
     },
     "metadata": {
      "needs_background": "light"
     },
     "output_type": "display_data"
    },
    {
     "name": "stdout",
     "output_type": "stream",
     "text": [
      "\n",
      "When value of K is 1 the central assumed point is:-  [[5.5882 4.2941]]\n",
      "[0.1] Is The Mean Or Nearest central distance within 1  Clusters\n",
      "\n",
      "When value of K is 2 the central assumed point is:-  [[3.7    5.9   ]\n",
      " [8.2857 2.    ]]\n",
      "[0.1, 0.017] Is The Mean Or Nearest central distance within 2  Clusters\n",
      "\n",
      "When value of K is 3 the central assumed point is:-  [[5.8    6.8   ]\n",
      " [8.2857 2.    ]\n",
      " [1.6    5.    ]]\n",
      "[0.1, 0.017, 0.003] Is The Mean Or Nearest central distance within 3  Clusters\n",
      "\n",
      "When value of K is 4 the central assumed point is:-  [[1.     4.6667]\n",
      " [8.2857 2.    ]\n",
      " [5.8    6.8   ]\n",
      " [2.5    5.5   ]]\n",
      "[0.1, 0.017, 0.003, 0.002] Is The Mean Or Nearest central distance within 4  Clusters\n",
      "\n",
      "When value of K is 5 the central assumed point is:-  [[1.     4.6667]\n",
      " [8.6667 2.6667]\n",
      " [5.8    6.8   ]\n",
      " [8.     1.5   ]\n",
      " [2.5    5.5   ]]\n",
      "[0.1, 0.017, 0.003, 0.002, 0.002] Is The Mean Or Nearest central distance within 5  Clusters\n",
      "\n",
      "When value of K is 6 the central assumed point is:-  [[8.4    2.4   ]\n",
      " [5.5    6.    ]\n",
      " [1.     4.6667]\n",
      " [6.     7.3333]\n",
      " [8.     1.    ]\n",
      " [2.5    5.5   ]]\n",
      "[0.1, 0.017, 0.003, 0.002, 0.002, 0.001] Is The Mean Or Nearest central distance within 6  Clusters\n",
      "\n",
      "When value of K is 7 the central assumed point is:-  [[5.5    6.    ]\n",
      " [8.25   2.5   ]\n",
      " [1.     4.6667]\n",
      " [9.     1.5   ]\n",
      " [7.     1.    ]\n",
      " [6.     7.3333]\n",
      " [2.5    5.5   ]]\n",
      "[0.1, 0.017, 0.003, 0.002, 0.002, 0.001, 0.001] Is The Mean Or Nearest central distance within 7  Clusters\n",
      "\n",
      "When value of K is 8 the central assumed point is:-  [[7.     1.    ]\n",
      " [5.5    6.    ]\n",
      " [2.5    5.5   ]\n",
      " [9.     1.5   ]\n",
      " [6.     7.3333]\n",
      " [1.     4.6667]\n",
      " [8.     2.3333]\n",
      " [9.     3.    ]]\n",
      "[0.1, 0.017, 0.003, 0.002, 0.002, 0.001, 0.001, 0.001] Is The Mean Or Nearest central distance within 8  Clusters\n",
      "\n",
      "When value of K is 9 the central assumed point is:-  [[1.     4.6667]\n",
      " [8.5    3.    ]\n",
      " [6.     7.3333]\n",
      " [9.     1.5   ]\n",
      " [8.     2.    ]\n",
      " [3.     5.    ]\n",
      " [5.5    6.    ]\n",
      " [2.     6.    ]\n",
      " [7.     1.    ]]\n",
      "[0.1, 0.017, 0.003, 0.002, 0.002, 0.001, 0.001, 0.001, 0.0] Is The Mean Or Nearest central distance within 9  Clusters\n",
      "Mean points of No. Of Clusters:-  {'Cluster-1': 0.0997, 'Cluster-2': 0.0171, 'Cluster-3': 0.0034, 'Cluster-4': 0.0024, 'Cluster-5': 0.0016, 'Cluster-6': 0.0013, 'Cluster-7': 0.0013, 'Cluster-8': 0.0011, 'Cluster-9': 0.0003}\n"
     ]
    },
    {
     "data": {
      "image/png": "[encoded data removed]",
      "text/plain": [
       "<Figure size 432x288 with 1 Axes>"
      ]
     },
     "metadata": {
      "needs_background": "light"
     },
     "output_type": "display_data"
    },
    {
     "name": "stdout",
     "output_type": "stream",
     "text": [
      "shape 17\n"
     ]
    }
   ],
   "source": [
    "from sklearn.cluster import KMeans\n",
    "from sklearn import metrics\n",
    "from scipy.spatial.distance import cdist\n",
    "import numpy as np\n",
    "import matplotlib.pyplot as plt\n",
    "\n",
    "#   ****************Random Data Points*************************************\n",
    "\n",
    "x1 = np.array([3, 1, 1, 2, 1, 6, 6, 6, 5, 6, 7, 8, 9, 8, 9, 9, 8])\n",
    "x2 = np.array([5, 4, 5, 6, 5, 8, 6, 7, 6, 7, 1, 2, 1, 2, 3, 2, 3])\n",
    "\n",
    "#plt.plot()\n",
    "plt.xlim([0, 10])\n",
    "plt.ylim([0, 10])\n",
    "plt.title('Dataset')\n",
    "plt.scatter(x1, x2)\n",
    "plt.show()\n",
    "\n",
    "# create new plot and data points\n",
    "plt.plot()\n",
    "X = np.array(list(zip(x1, x2))).reshape(len(x1), 2)\n",
    "colors = ['b', 'g', 'r']\n",
    "markers = ['o', 'v', 's']\n",
    "\n",
    "\n",
    "\n",
    "\n",
    "# k-means To determine k(No.Of Clusters)\n",
    "distortions = []\n",
    "mean_pts_clusters={}\n",
    "K = range(1,10)\n",
    "\n",
    "for k in K:    \n",
    "        kmeanModel = KMeans(n_clusters=k)\n",
    "        kmeanModel.fit(X)\n",
    "   # distortions.append(kmeanModel.inertia_)       \n",
    "\n",
    "#****Calculating the distance within the centers of the clusters and taking mean,Cos measures the nearest distance distance w.r.t data points******\n",
    "        distortions.append(np.round(sum(np.min(cdist(X, kmeanModel.cluster_centers_, 'cosine'), axis=1))/ X.shape[0],3)) #Calculating the mean distance of wcss \n",
    "        mean_pts_clusters['Cluster-'+str(k)]=np.round(sum(np.min(cdist(X, kmeanModel.cluster_centers_, 'cosine'), axis=1))/ X.shape[0],4)\n",
    "# ************kmeanModel.cluster_centers_ is used to assume the mean points of the clusters w.r.t No. Of Clusters ***************\n",
    "\n",
    "        print('\\nWhen value of K is {} the central assumed point is:- '.format(k),np.round(kmeanModel.cluster_centers_,4))\n",
    "        print(distortions,'Is The Mean Or Nearest central distance within {}'.format(k),' Clusters')\n",
    "      #  plt.scatter(kmeanModel.cluster_centers_[k][0],kmeanModel.cluster_centers_[k][1])  \n",
    "        \n",
    "    #  print(kmeanModel)\n",
    "print('Mean points of No. Of Clusters:- ',mean_pts_clusters) # Mean point or Centroid is calculated untill it gets same mean \n",
    "# Plot the elbow\n",
    "#plt.silhouette(K, distortions)\n",
    "plt.plot(K, distortions,'bx-')\n",
    "plt.xlabel('No. Of K ------>')\n",
    "plt.ylabel('Sum Of Square within the Cluster(wcss) ----->')\n",
    "plt.title('***** The Elbow Method showing the optimal k ******')\n",
    "plt.show()\n",
    "#print('Distance from the centers=> ',distortions)\n",
    "print('shape',X.shape[0])\n",
    "#print sklearn.metrics.silhouette_score()\n",
    "    "
   ]
  },
  {
   "cell_type": "markdown",
   "metadata": {},
   "source": [
    "### Labelling the Seperated Clusters and Marking them with Colours\n",
    "### As we got No. Of Clusters 3 From the Elbow Method"
   ]
  },
  {
   "cell_type": "code",
   "execution_count": 46,
   "metadata": {},
   "outputs": [
    {
     "name": "stdout",
     "output_type": "stream",
     "text": [
      "Lables:-  [2 2 2 2 2 1 1 1 1 1 0 0 0 0 0 0 0]\n",
      "Data Points when K is 3:-  [[8.28571429 2.        ]\n",
      " [5.8        6.8       ]\n",
      " [1.6        5.        ]] \n",
      "No. Of Data Points:- 3\n",
      "The Distance from where the mean or centroid of the clusters gets repeated (wcss):- 0.0033741\n"
     ]
    }
   ],
   "source": [
    "kmeanModel = KMeans(n_clusters=3)\n",
    "y=kmeanModel.fit(X)\n",
    "print('Lables:- ',y.labels_)\n",
    "print('Data Points when K is 3:- ',kmeanModel.cluster_centers_,'\\nNo. Of Data Points:-',len(kmeanModel.cluster_centers_))\n",
    "\n",
    "# Mean point or Centroid is calculated untill it gets same mean \n",
    "y_mean3=(sum(np.min(cdist(X, kmeanModel.cluster_centers_, 'cosine'), axis=1))/ X.shape[0]) \n",
    "\n",
    "#Converting into 5-significant figures by using '{:#.5g}'\n",
    "print('The Distance from where the mean or centroid of the clusters gets repeated (wcss):-','{:#.5g}'.format(y_mean3)) "
   ]
  },
  {
   "cell_type": "code",
   "execution_count": 37,
   "metadata": {},
   "outputs": [
    {
     "data": {
      "image/png": "[encoded data removed]",
      "text/plain": [
       "<Figure size 432x288 with 1 Axes>"
      ]
     },
     "metadata": {
      "needs_background": "light"
     },
     "output_type": "display_data"
    }
   ],
   "source": [
    "for i in range(17):\n",
    "    if y.labels_[i] == 0:\n",
    "        plt.scatter(X[i][0],X[i][1],c='red')\n",
    "    elif y.labels_[i] == 1:\n",
    "        plt.scatter(X[i][0],X[i][1],c='green')\n",
    "    else:\n",
    "        plt.scatter(X[i][0],X[i][1],c='blue')\n",
    "for i in range(kmeanModel.cluster_centers_.shape[0]): # No. Of Clusters = No. Of assmued Mean/Centroid \n",
    "    plt.scatter(kmeanModel.cluster_centers_[i][0],kmeanModel.cluster_centers_[i][1],marker='*',label='Assumed Mean for Cluster-'+str(i+1))\n",
    "    plt.legend()\n",
    "    plt.title('K-Means Clustering')\n",
    "    plt.xlabel('X-Axis --->')\n",
    "    plt.ylabel('Y-Axis --->')"
   ]
  },
  {
   "cell_type": "code",
   "execution_count": 59,
   "metadata": {},
   "outputs": [
    {
     "data": {
      "text/plain": [
       "(3, 2)"
      ]
     },
     "execution_count": 59,
     "metadata": {},
     "output_type": "execute_result"
    }
   ],
   "source": [
    "kmeanModel.cluster_centers_.shape"
   ]
  },
  {
   "cell_type": "markdown",
   "metadata": {},
   "source": [
    "###  Logic behind K-Means Clustering and its principle\n",
    "\n",
    "   ##### 1-> Take n No. Of Clusters\n",
    "\n",
    "   #####    2-> Take The Random Mean value or Assumed Mean\n",
    "   #####        No. Of Assumed Means(Centroid) = No. Clusters\n",
    "\n",
    "   #####    3-> Calculate the distance from No. Of Assumed Means w.r.t total Data Points\n",
    "\n",
    "   #####    4->Calcualte the Mean of distance from No. Of Assumed Means w.r.t total Data Points untill it get same Mean Data Points\n",
    "  \n",
    "   #####   5-> Use Elbow Method to select No. Of Clusters By Plotting K w.r.t Wcss\n",
    "   ####   6-> Can also Calculate Silhoutte Ananlysis for determing the degree of separation between two Clusters"
   ]
  },
  {
   "cell_type": "code",
   "execution_count": null,
   "metadata": {},
   "outputs": [],
   "source": []
  },
  {
   "cell_type": "code",
   "execution_count": null,
   "metadata": {},
   "outputs": [],
   "source": []
  },
  {
   "cell_type": "code",
   "execution_count": null,
   "metadata": {},
   "outputs": [],
   "source": []
  },
  {
   "cell_type": "markdown",
   "metadata": {},
   "source": [
    "# ****************************The End********************"
   ]
  },
  {
   "cell_type": "code",
   "execution_count": null,
   "metadata": {},
   "outputs": [],
   "source": []
  },
  {
   "cell_type": "code",
   "execution_count": null,
   "metadata": {},
   "outputs": [],
   "source": []
  },
  {
   "cell_type": "code",
   "execution_count": null,
   "metadata": {},
   "outputs": [],
   "source": []
  },
  {
   "cell_type": "code",
   "execution_count": null,
   "metadata": {},
   "outputs": [],
   "source": []
  },
  {
   "cell_type": "code",
   "execution_count": null,
   "metadata": {},
   "outputs": [],
   "source": []
  },
  {
   "cell_type": "code",
   "execution_count": null,
   "metadata": {},
   "outputs": [],
   "source": []
  },
  {
   "cell_type": "code",
   "execution_count": null,
   "metadata": {},
   "outputs": [],
   "source": []
  },
  {
   "cell_type": "code",
   "execution_count": null,
   "metadata": {},
   "outputs": [],
   "source": []
  },
  {
   "cell_type": "code",
   "execution_count": null,
   "metadata": {},
   "outputs": [],
   "source": []
  },
  {
   "cell_type": "code",
   "execution_count": null,
   "metadata": {},
   "outputs": [],
   "source": []
  },
  {
   "cell_type": "code",
   "execution_count": null,
   "metadata": {},
   "outputs": [],
   "source": []
  },
  {
   "cell_type": "code",
   "execution_count": null,
   "metadata": {},
   "outputs": [],
   "source": []
  },
  {
   "cell_type": "code",
   "execution_count": null,
   "metadata": {},
   "outputs": [],
   "source": []
  },
  {
   "cell_type": "markdown",
   "metadata": {},
   "source": [
    "### Timestamp Data Frame"
   ]
  },
  {
   "cell_type": "code",
   "execution_count": 27,
   "metadata": {},
   "outputs": [],
   "source": [
    "X = np.array(list(zip(x1, x2))).reshape(len(x1), 2)\n",
    "# X\n"
   ]
  },
  {
   "cell_type": "code",
   "execution_count": null,
   "metadata": {},
   "outputs": [],
   "source": [
    "import pandas as pd"
   ]
  },
  {
   "cell_type": "code",
   "execution_count": 11,
   "metadata": {},
   "outputs": [
    {
     "data": {
      "text/html": [
       "<div>\n",
       "<style scoped>\n",
       "    .dataframe tbody tr th:only-of-type {\n",
       "        vertical-align: middle;\n",
       "    }\n",
       "\n",
       "    .dataframe tbody tr th {\n",
       "        vertical-align: top;\n",
       "    }\n",
       "\n",
       "    .dataframe thead th {\n",
       "        text-align: right;\n",
       "    }\n",
       "</style>\n",
       "<table border=\"1\" class=\"dataframe\">\n",
       "  <thead>\n",
       "    <tr style=\"text-align: right;\">\n",
       "      <th></th>\n",
       "      <th>A</th>\n",
       "      <th>B</th>\n",
       "      <th>C</th>\n",
       "      <th>D</th>\n",
       "      <th>E</th>\n",
       "      <th>F</th>\n",
       "    </tr>\n",
       "  </thead>\n",
       "  <tbody>\n",
       "    <tr>\n",
       "      <th>0</th>\n",
       "      <td>1</td>\n",
       "      <td>2013-01-02</td>\n",
       "      <td>1.0</td>\n",
       "      <td>3</td>\n",
       "      <td>test</td>\n",
       "      <td>foo</td>\n",
       "    </tr>\n",
       "    <tr>\n",
       "      <th>1</th>\n",
       "      <td>1</td>\n",
       "      <td>2013-01-02</td>\n",
       "      <td>1.0</td>\n",
       "      <td>3</td>\n",
       "      <td>train</td>\n",
       "      <td>foo</td>\n",
       "    </tr>\n",
       "    <tr>\n",
       "      <th>2</th>\n",
       "      <td>1</td>\n",
       "      <td>2013-01-02</td>\n",
       "      <td>1.0</td>\n",
       "      <td>3</td>\n",
       "      <td>test</td>\n",
       "      <td>foo</td>\n",
       "    </tr>\n",
       "    <tr>\n",
       "      <th>3</th>\n",
       "      <td>1</td>\n",
       "      <td>2013-01-02</td>\n",
       "      <td>1.0</td>\n",
       "      <td>3</td>\n",
       "      <td>train</td>\n",
       "      <td>foo</td>\n",
       "    </tr>\n",
       "  </tbody>\n",
       "</table>\n",
       "</div>"
      ],
      "text/plain": [
       "   A          B    C  D      E    F\n",
       "0  1 2013-01-02  1.0  3   test  foo\n",
       "1  1 2013-01-02  1.0  3  train  foo\n",
       "2  1 2013-01-02  1.0  3   test  foo\n",
       "3  1 2013-01-02  1.0  3  train  foo"
      ]
     },
     "execution_count": 11,
     "metadata": {},
     "output_type": "execute_result"
    }
   ],
   "source": [
    "df2 = pd.DataFrame({ 'A' : 1,'B' : pd.Timestamp('20130102'),\n",
    "'C' : pd.Series(1,index=list(range(4)),dtype='float32'),\n",
    "'D' : np.array([3] * 4,dtype='int32'),\n",
    " 'E' : pd.Categorical([\"test\",\"train\",\"test\",\"train\"]), 'F' : 'foo' })\n",
    "\n",
    "df2"
   ]
  },
  {
   "cell_type": "code",
   "execution_count": 1,
   "metadata": {},
   "outputs": [],
   "source": []
  }
 ],
 "metadata": {
  "kernelspec": {
   "display_name": "Python 3",
   "language": "python",
   "name": "python3"
  },
  "language_info": {
   "codemirror_mode": {
    "name": "ipython",
    "version": 3
   },
   "file_extension": ".py",
   "mimetype": "text/x-python",
   "name": "python",
   "nbconvert_exporter": "python",
   "pygments_lexer": "ipython3",
   "version": "3.7.3"
  }
 },
 "nbformat": 4,
 "nbformat_minor": 2
}
